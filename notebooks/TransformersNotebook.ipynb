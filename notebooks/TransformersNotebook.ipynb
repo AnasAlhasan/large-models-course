{
  "nbformat": 4,
  "nbformat_minor": 0,
  "metadata": {
    "colab": {
      "provenance": [],
      "gpuType": "T4",
      "authorship_tag": "ABX9TyOZsSL46LL+CR16KLet4y6+",
      "include_colab_link": true
    },
    "kernelspec": {
      "name": "python3",
      "display_name": "Python 3"
    },
    "language_info": {
      "name": "python"
    },
    "accelerator": "GPU"
  },
  "cells": [
    {
      "cell_type": "markdown",
      "metadata": {
        "id": "view-in-github",
        "colab_type": "text"
      },
      "source": [
        "<a href=\"https://colab.research.google.com/github/AnasAlhasan/large-models-course/blob/main/notebooks/TransformersNotebook.ipynb\" target=\"_parent\"><img src=\"https://colab.research.google.com/assets/colab-badge.svg\" alt=\"Open In Colab\"/></a>"
      ]
    },
    {
      "cell_type": "code",
      "execution_count": 1,
      "metadata": {
        "id": "6SfKTcmqRMo6"
      },
      "outputs": [],
      "source": [
        "import torch\n",
        "import torch.nn as nn"
      ]
    },
    {
      "cell_type": "code",
      "source": [
        "#Multi-Head Attention\n",
        "class MultiHeadAttention(nn.Module):\n",
        "  def __init__(self, d_model, num_heads):\n",
        "    super().__init__()\n",
        "    self.num_heads = num_heads\n",
        "    self.d_model = d_model\n",
        "\n",
        "    assert d_model % num_heads == 0\n",
        "\n",
        "    self.depth = d_model // num_heads\n",
        "\n",
        "    self.Wq = nn.Linear(d_model, d_model)\n",
        "    self.Wk = nn.Linear(d_model, d_model)\n",
        "    self.Wv = nn.Linear(d_model, d_model)\n",
        "\n",
        "    self.out = nn.Linear(d_model, d_model)\n",
        "\n",
        "  def split_heads(self, x, batch_size):\n",
        "    x = x.view(batch_size, -1, self.num_heads, self.depth)\n",
        "\n",
        "\n",
        "    return x.transpose(1,2)\n",
        "\n",
        "  def forward(self, x):\n",
        "\n",
        "    batch_size = x.size(0)\n",
        "    Q = self.split_heads(self.Wq(x), batch_size)\n",
        "    K = self.split_heads(self.Wk(x), batch_size)\n",
        "    V = self.split_heads(self.Wv(x), batch_size)\n",
        "    scores = torch.matmul(Q, K.transpose(-2, -1)) / (self.depth ** 0.5)\n",
        "    attn_weights = torch.softmax(scores, dim=-1)\n",
        "    context = torch.matmul(attn_weights, V)\n",
        "    context = context.transpose(1, 2)\n",
        "    context = context.contiguous().view(batch_size, -1, self.d_model)\n",
        "    return self.out(context)"
      ],
      "metadata": {
        "id": "8SIm0fEZRSEc"
      },
      "execution_count": 2,
      "outputs": []
    },
    {
      "cell_type": "code",
      "source": [
        "#Feed Forward Network\n",
        "\n",
        "class FeedForward(nn.Module):\n",
        "\n",
        "  def __init__(self, d_model, d_ff):\n",
        "    super().__init__()\n",
        "\n",
        "    self.Linear1 = nn.Linear(d_model, d_ff)\n",
        "    self.relu = nn.ReLU()\n",
        "    self.Linear2 = nn.Linear( d_ff, d_model)\n",
        "\n",
        "  def forward(self, x):\n",
        "    return self.Linear2(self.relu(self.Linear1(x)))"
      ],
      "metadata": {
        "id": "PColvH6iT23r"
      },
      "execution_count": 19,
      "outputs": []
    },
    {
      "cell_type": "code",
      "source": [
        "# Transformer Block\n",
        "class TransformerBlock(nn.Module):\n",
        "  def __init__(self, d_model, num_heads, d_ff):\n",
        "    super().__init__()\n",
        "    self.attention = MultiHeadAttention(d_model,num_heads)\n",
        "\n",
        "    self.norm1 = nn.LayerNorm(d_model)\n",
        "    self.ffn = FeedForward(d_model, d_ff)\n",
        "    self.norm2 = nn.LayerNorm(d_model)\n",
        "\n",
        "  def forward(self, x):\n",
        "    attn_out = self.attention(x)\n",
        "    x = self.norm1(x + attn_out)\n",
        "\n",
        "    ffn_out = self.ffn(x)\n",
        "    x = self.norm2(x+ffn_out)\n",
        "\n",
        "    return x"
      ],
      "metadata": {
        "id": "HESCaB6GUrMC"
      },
      "execution_count": 20,
      "outputs": []
    },
    {
      "cell_type": "code",
      "source": [
        "x = torch.rand(2, 5, 64)\n",
        "\n",
        "block = TransformerBlock(d_model=64, num_heads=8, d_ff=256)\n",
        "\n",
        "out = block(x)\n",
        "print(out.shape)"
      ],
      "metadata": {
        "colab": {
          "base_uri": "https://localhost:8080/"
        },
        "id": "gJrIgzPUWA3L",
        "outputId": "94b1a3e6-c00d-4be0-e8f3-b8f2854bf53b"
      },
      "execution_count": 21,
      "outputs": [
        {
          "output_type": "stream",
          "name": "stdout",
          "text": [
            "torch.Size([2, 5, 64])\n"
          ]
        }
      ]
    },
    {
      "cell_type": "code",
      "source": [],
      "metadata": {
        "id": "WFgMWjNtWWew"
      },
      "execution_count": null,
      "outputs": []
    }
  ]
}